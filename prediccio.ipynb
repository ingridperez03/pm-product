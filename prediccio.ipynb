{
 "cells": [
  {
   "cell_type": "markdown",
   "metadata": {},
   "source": [
    "# Socioviews"
   ]
  },
  {
   "cell_type": "markdown",
   "metadata": {},
   "source": [
    "### Imports"
   ]
  },
  {
   "cell_type": "code",
   "execution_count": 2,
   "metadata": {},
   "outputs": [],
   "source": [
    "from main import initApp\n",
    "import pandas as pd\n",
    "import numpy as np\n",
    "import os"
   ]
  },
  {
   "cell_type": "markdown",
   "metadata": {},
   "source": [
    "## Preprocessament de dades"
   ]
  },
  {
   "cell_type": "markdown",
   "metadata": {},
   "source": [
    "### Carregar les dades"
   ]
  },
  {
   "cell_type": "code",
   "execution_count": 3,
   "metadata": {},
   "outputs": [],
   "source": [
    "resultat_path = os.path.join('dades', 'resultat')"
   ]
  },
  {
   "cell_type": "markdown",
   "metadata": {},
   "source": [
    "#### Dades demogràfiques"
   ]
  },
  {
   "cell_type": "code",
   "execution_count": 4,
   "metadata": {},
   "outputs": [
    {
     "name": "stdout",
     "output_type": "stream",
     "text": [
      "Dimensió demogràfica\n",
      "<class 'pandas.core.frame.DataFrame'>\n",
      "RangeIndex: 19901 entries, 0 to 19900\n",
      "Data columns (total 14 columns):\n",
      " #   Column                     Non-Null Count  Dtype  \n",
      "---  ------                     --------------  -----  \n",
      " 0   Codi                       19901 non-null  int64  \n",
      " 1   Municipi                   19901 non-null  object \n",
      " 2   Any                        19901 non-null  int64  \n",
      " 3   Total                      19901 non-null  int64  \n",
      " 4   Homes                      19901 non-null  int64  \n",
      " 5   Dones                      19901 non-null  int64  \n",
      " 6   0-14 Anys                  19901 non-null  int64  \n",
      " 7   15-64 Anys                 19901 non-null  int64  \n",
      " 8   64 o més                   19901 non-null  int64  \n",
      " 9   Índex d'envelliment        500 non-null    float64\n",
      " 10  Índex de sobreenvelliment  500 non-null    float64\n",
      " 11  Saldo migratori total      17988 non-null  float64\n",
      " 12  Immigracions               17988 non-null  float64\n",
      " 13  Emigracions                17988 non-null  float64\n",
      "dtypes: float64(5), int64(8), object(1)\n",
      "memory usage: 2.1+ MB\n",
      "None\n"
     ]
    }
   ],
   "source": [
    "# Llegir fitxer\n",
    "demografica = pd.read_csv(os.path.join(resultat_path, 'demografica.csv'))\n",
    "\n",
    "# Eliminar columnes innecessàries\n",
    "demografica.drop(columns=\"Unnamed: 0\", inplace=True)\n",
    "\n",
    "# Canviar nom columna \"Literal\"\n",
    "demografica.rename({\"Literal\": \"Municipi\"}, axis=1, inplace=True)\n",
    "\n",
    "# Imprimir info\n",
    "print(\"Dimensió demogràfica\")\n",
    "print(demografica.info())"
   ]
  },
  {
   "cell_type": "markdown",
   "metadata": {},
   "source": [
    "#### Dades econòmiques"
   ]
  },
  {
   "cell_type": "code",
   "execution_count": 5,
   "metadata": {},
   "outputs": [
    {
     "name": "stdout",
     "output_type": "stream",
     "text": [
      "\n",
      "Dimensió econòmica\n",
      "<class 'pandas.core.frame.DataFrame'>\n",
      "RangeIndex: 9824 entries, 0 to 9823\n",
      "Data columns (total 7 columns):\n",
      " #   Column           Non-Null Count  Dtype  \n",
      "---  ------           --------------  -----  \n",
      " 0   Municipi         9824 non-null   object \n",
      " 1   Codi             9824 non-null   int64  \n",
      " 2   Any              9824 non-null   int64  \n",
      " 3   Aturats          8523 non-null   float64\n",
      " 4   Evolucio atur    7576 non-null   float64\n",
      " 5   Poblacio activa  762 non-null    float64\n",
      " 6   Renda            4086 non-null   float64\n",
      "dtypes: float64(4), int64(2), object(1)\n",
      "memory usage: 537.4+ KB\n",
      "None\n"
     ]
    }
   ],
   "source": [
    "# Llegir fitxer\n",
    "economica = pd.read_csv(os.path.join(resultat_path, 'economica.csv'))\n",
    "\n",
    "# Eliminar columnes innecessàries\n",
    "economica.drop(columns=\"Unnamed: 0\", inplace=True)\n",
    "\n",
    "# Canviar nom columna \"Literal\"\n",
    "economica.rename({\"Literal\": \"Municipi\"}, axis=1, inplace=True)\n",
    "\n",
    "# Imprimir info\n",
    "print(\"\\nDimensió econòmica\")\n",
    "print(economica.info())"
   ]
  },
  {
   "cell_type": "markdown",
   "metadata": {},
   "source": [
    "#### Dades residencials"
   ]
  },
  {
   "cell_type": "code",
   "execution_count": 6,
   "metadata": {},
   "outputs": [
    {
     "name": "stdout",
     "output_type": "stream",
     "text": [
      "\n",
      "Dimensió residencial\n",
      "<class 'pandas.core.frame.DataFrame'>\n",
      "RangeIndex: 5069 entries, 0 to 5068\n",
      "Data columns (total 10 columns):\n",
      " #   Column                           Non-Null Count  Dtype  \n",
      "---  ------                           --------------  -----  \n",
      " 0   Municipi                         5069 non-null   object \n",
      " 1   Codi                             5069 non-null   int64  \n",
      " 2   Any                              5069 non-null   int64  \n",
      " 3   Demanda                          3408 non-null   float64\n",
      " 4   Habitatges familiars secundaris  1893 non-null   float64\n",
      " 5   Habitatges familiars vacants     1893 non-null   float64\n",
      " 6   Habitatges familiars altres      946 non-null    float64\n",
      " 7   Habitatges familiars principals  1893 non-null   float64\n",
      " 8   De lloguer                       1411 non-null   float64\n",
      " 9   De propietat                     1411 non-null   float64\n",
      "dtypes: float64(7), int64(2), object(1)\n",
      "memory usage: 396.1+ KB\n",
      "None\n"
     ]
    }
   ],
   "source": [
    "# Llegir fitxer\n",
    "residencial = pd.read_csv(os.path.join(resultat_path, 'residencial.csv'))\n",
    "\n",
    "# Eliminar columnes innecessàries\n",
    "residencial.drop(columns=\"Unnamed: 0\", inplace=True)\n",
    "\n",
    "# Canviar nom columna \"Literal\"\n",
    "residencial.rename({\"Literal\": \"Municipi\"}, axis=1, inplace=True)\n",
    "\n",
    "# Imprimir info\n",
    "print(\"\\nDimensió residencial\")\n",
    "print(residencial.info())"
   ]
  },
  {
   "cell_type": "markdown",
   "metadata": {},
   "source": [
    "#### Dades urbanístiques"
   ]
  },
  {
   "cell_type": "code",
   "execution_count": 7,
   "metadata": {},
   "outputs": [
    {
     "name": "stdout",
     "output_type": "stream",
     "text": [
      "\n",
      "Dimensió urbanística\n",
      "<class 'pandas.core.frame.DataFrame'>\n",
      "RangeIndex: 8526 entries, 0 to 8525\n",
      "Data columns (total 10 columns):\n",
      " #   Column              Non-Null Count  Dtype  \n",
      "---  ------              --------------  -----  \n",
      " 0   Any                 8526 non-null   int64  \n",
      " 1   Serveis             8523 non-null   float64\n",
      " 2   Municipi            8526 non-null   object \n",
      " 3   Codi                8526 non-null   int64  \n",
      " 4   Solar               8523 non-null   float64\n",
      " 5   Zones verdes        8523 non-null   float64\n",
      " 6   Equipament          8523 non-null   float64\n",
      " 7   Connectivitat       8523 non-null   float64\n",
      " 8   Densitat comercial  2841 non-null   float64\n",
      " 9   Riscos              814 non-null    float64\n",
      "dtypes: float64(7), int64(2), object(1)\n",
      "memory usage: 666.2+ KB\n",
      "None\n"
     ]
    }
   ],
   "source": [
    "# Llegir fitxer\n",
    "urbanistica = pd.read_csv(os.path.join(resultat_path, 'urbanistica.csv'))\n",
    "\n",
    "# Eliminar columnes innecessàries\n",
    "urbanistica.drop(columns=\"Unnamed: 0\", inplace=True)\n",
    "\n",
    "# Canviar nom columna \"Literal\"\n",
    "urbanistica.rename({\"Literal\": \"Municipi\"}, axis=1, inplace=True)\n",
    "\n",
    "# Imprimir info\n",
    "print(\"\\nDimensió urbanística\")\n",
    "print(urbanistica.info())"
   ]
  },
  {
   "cell_type": "markdown",
   "metadata": {},
   "source": [
    "#### Dades històriques habitatge social"
   ]
  },
  {
   "cell_type": "code",
   "execution_count": 8,
   "metadata": {},
   "outputs": [
    {
     "name": "stdout",
     "output_type": "stream",
     "text": [
      "<class 'pandas.core.frame.DataFrame'>\n",
      "RangeIndex: 238 entries, 0 to 237\n",
      "Data columns (total 3 columns):\n",
      " #   Column       Non-Null Count  Dtype \n",
      "---  ------       --------------  ----- \n",
      " 0   Municipi     238 non-null    object\n",
      " 1   Any          238 non-null    int64 \n",
      " 2   Hab Lloguer  238 non-null    int64 \n",
      "dtypes: int64(2), object(1)\n",
      "memory usage: 5.7+ KB\n",
      "None\n"
     ]
    }
   ],
   "source": [
    "# Llegir fitxer\n",
    "habitatges = pd.read_excel(os.path.join('dades', 'habitatge_social.xlsx'))\n",
    "\n",
    "# Eliminar columnes innecessàries\n",
    "habitatges.drop(columns=[\"NOM_MUNICIP\", \"Data Construcció\", \"Total Hab\"], inplace=True)\n",
    "\n",
    "# Imprimir info\n",
    "print(habitatges.info())"
   ]
  },
  {
   "cell_type": "markdown",
   "metadata": {},
   "source": [
    "#### Municipis de Catalunya"
   ]
  },
  {
   "cell_type": "code",
   "execution_count": 10,
   "metadata": {},
   "outputs": [
    {
     "name": "stdout",
     "output_type": "stream",
     "text": [
      "<class 'pandas.core.frame.DataFrame'>\n",
      "RangeIndex: 947 entries, 0 to 946\n",
      "Data columns (total 2 columns):\n",
      " #   Column    Non-Null Count  Dtype \n",
      "---  ------    --------------  ----- \n",
      " 0   Municipi  947 non-null    object\n",
      " 1   Codi      947 non-null    int64 \n",
      "dtypes: int64(1), object(1)\n",
      "memory usage: 14.9+ KB\n",
      "None\n"
     ]
    }
   ],
   "source": [
    "# Llegir fitxer\n",
    "municipis = pd.read_csv(os.path.join('dades', 'noms_municipis.csv'))\n",
    "\n",
    "# Eliminar columnes innecessàries\n",
    "municipis.drop(columns=\"NomMun\", inplace=True)\n",
    "\n",
    "# Imprimir info\n",
    "print(municipis.info())"
   ]
  },
  {
   "cell_type": "markdown",
   "metadata": {},
   "source": [
    "### Combinar dades"
   ]
  },
  {
   "cell_type": "markdown",
   "metadata": {},
   "source": [
    "#### Creació d'un dataframe amb una file per any i municipi"
   ]
  },
  {
   "cell_type": "code",
   "execution_count": 11,
   "metadata": {},
   "outputs": [
    {
     "name": "stdout",
     "output_type": "stream",
     "text": [
      "<class 'pandas.core.frame.DataFrame'>\n",
      "RangeIndex: 19887 entries, 0 to 19886\n",
      "Data columns (total 3 columns):\n",
      " #   Column    Non-Null Count  Dtype \n",
      "---  ------    --------------  ----- \n",
      " 0   Municipi  19887 non-null  object\n",
      " 1   Codi      19887 non-null  int64 \n",
      " 2   Any       19887 non-null  int64 \n",
      "dtypes: int64(2), object(1)\n",
      "memory usage: 466.2+ KB\n",
      "None\n"
     ]
    }
   ],
   "source": [
    "# Anys a realitzar l'estudi \n",
    "years = range(2000, 2021)\n",
    "\n",
    "# Creació dataframe\n",
    "municipis = pd.concat([municipis.assign(Any = y) for y in years], ignore_index=True)\n",
    "\n",
    "# Imprimir info\n",
    "print(municipis.info())"
   ]
  },
  {
   "cell_type": "markdown",
   "metadata": {},
   "source": [
    "#### Combinar municipis amb dades indicadors socioeconòmics "
   ]
  },
  {
   "cell_type": "code",
   "execution_count": 13,
   "metadata": {},
   "outputs": [
    {
     "name": "stdout",
     "output_type": "stream",
     "text": [
      "<class 'pandas.core.frame.DataFrame'>\n",
      "Int64Index: 19887 entries, 0 to 19886\n",
      "Data columns (total 14 columns):\n",
      " #   Column                     Non-Null Count  Dtype  \n",
      "---  ------                     --------------  -----  \n",
      " 0   Municipi                   19887 non-null  object \n",
      " 1   Codi                       19887 non-null  int64  \n",
      " 2   Any                        19887 non-null  int64  \n",
      " 3   Total                      19775 non-null  float64\n",
      " 4   Homes                      19775 non-null  float64\n",
      " 5   Dones                      19775 non-null  float64\n",
      " 6   0-14 Anys                  19775 non-null  float64\n",
      " 7   15-64 Anys                 19775 non-null  float64\n",
      " 8   64 o més                   19775 non-null  float64\n",
      " 9   Índex d'envelliment        500 non-null    float64\n",
      " 10  Índex de sobreenvelliment  500 non-null    float64\n",
      " 11  Saldo migratori total      17893 non-null  float64\n",
      " 12  Immigracions               17893 non-null  float64\n",
      " 13  Emigracions                17893 non-null  float64\n",
      "dtypes: float64(11), int64(2), object(1)\n",
      "memory usage: 2.3+ MB\n",
      "None\n"
     ]
    }
   ],
   "source": [
    "# Demogràfica\n",
    "indicadors = municipis.merge(demografica, how='left', on=[\"Codi\", \"Municipi\", \"Any\"])\n",
    "print(indicadors.info())"
   ]
  },
  {
   "cell_type": "code",
   "execution_count": 14,
   "metadata": {},
   "outputs": [
    {
     "name": "stdout",
     "output_type": "stream",
     "text": [
      "<class 'pandas.core.frame.DataFrame'>\n",
      "Int64Index: 19887 entries, 0 to 19886\n",
      "Data columns (total 18 columns):\n",
      " #   Column                     Non-Null Count  Dtype  \n",
      "---  ------                     --------------  -----  \n",
      " 0   Municipi                   19887 non-null  object \n",
      " 1   Codi                       19887 non-null  int64  \n",
      " 2   Any                        19887 non-null  int64  \n",
      " 3   Total                      19775 non-null  float64\n",
      " 4   Homes                      19775 non-null  float64\n",
      " 5   Dones                      19775 non-null  float64\n",
      " 6   0-14 Anys                  19775 non-null  float64\n",
      " 7   15-64 Anys                 19775 non-null  float64\n",
      " 8   64 o més                   19775 non-null  float64\n",
      " 9   Índex d'envelliment        500 non-null    float64\n",
      " 10  Índex de sobreenvelliment  500 non-null    float64\n",
      " 11  Saldo migratori total      17893 non-null  float64\n",
      " 12  Immigracions               17893 non-null  float64\n",
      " 13  Emigracions                17893 non-null  float64\n",
      " 14  Aturats                    8478 non-null   float64\n",
      " 15  Evolucio atur              7536 non-null   float64\n",
      " 16  Poblacio activa            762 non-null    float64\n",
      " 17  Renda                      4086 non-null   float64\n",
      "dtypes: float64(15), int64(2), object(1)\n",
      "memory usage: 2.9+ MB\n",
      "None\n"
     ]
    }
   ],
   "source": [
    "# Economica\n",
    "indicadors = indicadors.merge(economica, how='left', on=[\"Codi\", \"Municipi\", \"Any\"])\n",
    "print(indicadors.info())"
   ]
  },
  {
   "cell_type": "code",
   "execution_count": 15,
   "metadata": {},
   "outputs": [
    {
     "name": "stdout",
     "output_type": "stream",
     "text": [
      "<class 'pandas.core.frame.DataFrame'>\n",
      "Int64Index: 19887 entries, 0 to 19886\n",
      "Data columns (total 25 columns):\n",
      " #   Column                           Non-Null Count  Dtype  \n",
      "---  ------                           --------------  -----  \n",
      " 0   Municipi                         19887 non-null  object \n",
      " 1   Codi                             19887 non-null  int64  \n",
      " 2   Any                              19887 non-null  int64  \n",
      " 3   Total                            19775 non-null  float64\n",
      " 4   Homes                            19775 non-null  float64\n",
      " 5   Dones                            19775 non-null  float64\n",
      " 6   0-14 Anys                        19775 non-null  float64\n",
      " 7   15-64 Anys                       19775 non-null  float64\n",
      " 8   64 o més                         19775 non-null  float64\n",
      " 9   Índex d'envelliment              500 non-null    float64\n",
      " 10  Índex de sobreenvelliment        500 non-null    float64\n",
      " 11  Saldo migratori total            17893 non-null  float64\n",
      " 12  Immigracions                     17893 non-null  float64\n",
      " 13  Emigracions                      17893 non-null  float64\n",
      " 14  Aturats                          8478 non-null   float64\n",
      " 15  Evolucio atur                    7536 non-null   float64\n",
      " 16  Poblacio activa                  762 non-null    float64\n",
      " 17  Renda                            4086 non-null   float64\n",
      " 18  Demanda                          3408 non-null   float64\n",
      " 19  Habitatges familiars secundaris  1883 non-null   float64\n",
      " 20  Habitatges familiars vacants     1883 non-null   float64\n",
      " 21  Habitatges familiars altres      941 non-null    float64\n",
      " 22  Habitatges familiars principals  1883 non-null   float64\n",
      " 23  De lloguer                       1345 non-null   float64\n",
      " 24  De propietat                     1345 non-null   float64\n",
      "dtypes: float64(22), int64(2), object(1)\n",
      "memory usage: 3.9+ MB\n",
      "None\n"
     ]
    }
   ],
   "source": [
    "# Residencial\n",
    "indicadors = indicadors.merge(residencial, how='left', on=[\"Codi\", \"Municipi\", \"Any\"])\n",
    "print(indicadors.info())"
   ]
  },
  {
   "cell_type": "code",
   "execution_count": 16,
   "metadata": {},
   "outputs": [
    {
     "name": "stdout",
     "output_type": "stream",
     "text": [
      "<class 'pandas.core.frame.DataFrame'>\n",
      "Int64Index: 19887 entries, 0 to 19886\n",
      "Data columns (total 32 columns):\n",
      " #   Column                           Non-Null Count  Dtype  \n",
      "---  ------                           --------------  -----  \n",
      " 0   Municipi                         19887 non-null  object \n",
      " 1   Codi                             19887 non-null  int64  \n",
      " 2   Any                              19887 non-null  int64  \n",
      " 3   Total                            19775 non-null  float64\n",
      " 4   Homes                            19775 non-null  float64\n",
      " 5   Dones                            19775 non-null  float64\n",
      " 6   0-14 Anys                        19775 non-null  float64\n",
      " 7   15-64 Anys                       19775 non-null  float64\n",
      " 8   64 o més                         19775 non-null  float64\n",
      " 9   Índex d'envelliment              500 non-null    float64\n",
      " 10  Índex de sobreenvelliment        500 non-null    float64\n",
      " 11  Saldo migratori total            17893 non-null  float64\n",
      " 12  Immigracions                     17893 non-null  float64\n",
      " 13  Emigracions                      17893 non-null  float64\n",
      " 14  Aturats                          8478 non-null   float64\n",
      " 15  Evolucio atur                    7536 non-null   float64\n",
      " 16  Poblacio activa                  762 non-null    float64\n",
      " 17  Renda                            4086 non-null   float64\n",
      " 18  Demanda                          3408 non-null   float64\n",
      " 19  Habitatges familiars secundaris  1883 non-null   float64\n",
      " 20  Habitatges familiars vacants     1883 non-null   float64\n",
      " 21  Habitatges familiars altres      941 non-null    float64\n",
      " 22  Habitatges familiars principals  1883 non-null   float64\n",
      " 23  De lloguer                       1345 non-null   float64\n",
      " 24  De propietat                     1345 non-null   float64\n",
      " 25  Serveis                          8523 non-null   float64\n",
      " 26  Solar                            8523 non-null   float64\n",
      " 27  Zones verdes                     8523 non-null   float64\n",
      " 28  Equipament                       8523 non-null   float64\n",
      " 29  Connectivitat                    8523 non-null   float64\n",
      " 30  Densitat comercial               2838 non-null   float64\n",
      " 31  Riscos                           814 non-null    float64\n",
      "dtypes: float64(29), int64(2), object(1)\n",
      "memory usage: 5.0+ MB\n",
      "None\n"
     ]
    }
   ],
   "source": [
    "# Urbanistica\n",
    "indicadors = indicadors.merge(urbanistica, how='left', on=[\"Codi\", \"Municipi\", \"Any\"])\n",
    "print(indicadors.info())"
   ]
  },
  {
   "cell_type": "code",
   "execution_count": null,
   "metadata": {},
   "outputs": [],
   "source": []
  }
 ],
 "metadata": {
  "interpreter": {
   "hash": "b89b5cfaba6639976dc87ff2fec6d58faec662063367e2c229c520fe71072417"
  },
  "kernelspec": {
   "display_name": "Python 3.10.0 64-bit",
   "language": "python",
   "name": "python3"
  },
  "language_info": {
   "codemirror_mode": {
    "name": "ipython",
    "version": 3
   },
   "file_extension": ".py",
   "mimetype": "text/x-python",
   "name": "python",
   "nbconvert_exporter": "python",
   "pygments_lexer": "ipython3",
   "version": "3.10.0"
  },
  "orig_nbformat": 4
 },
 "nbformat": 4,
 "nbformat_minor": 2
}
